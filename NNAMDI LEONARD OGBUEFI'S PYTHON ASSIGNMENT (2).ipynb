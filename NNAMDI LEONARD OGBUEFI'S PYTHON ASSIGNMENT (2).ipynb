{
 "cells": [
  {
   "cell_type": "code",
   "execution_count": 1,
   "id": "c031ef8d",
   "metadata": {},
   "outputs": [],
   "source": [
    "import numpy as np\n",
    "import pandas as pd\n",
    "from numpy import random\n",
    "%matplotlib inline\n",
    "import matplotlib.pyplot as plt\n",
    "import seaborn as sns"
   ]
  },
  {
   "cell_type": "markdown",
   "id": "364cb849",
   "metadata": {},
   "source": [
    "# EXPLORATORY DATA ANALYSIS ON UNICORN COMPANIES\n",
    "\n"
   ]
  },
  {
   "cell_type": "code",
   "execution_count": 2,
   "id": "ae1b339d",
   "metadata": {},
   "outputs": [
    {
     "data": {
      "text/html": [
       "<div>\n",
       "<style scoped>\n",
       "    .dataframe tbody tr th:only-of-type {\n",
       "        vertical-align: middle;\n",
       "    }\n",
       "\n",
       "    .dataframe tbody tr th {\n",
       "        vertical-align: top;\n",
       "    }\n",
       "\n",
       "    .dataframe thead th {\n",
       "        text-align: right;\n",
       "    }\n",
       "</style>\n",
       "<table border=\"1\" class=\"dataframe\">\n",
       "  <thead>\n",
       "    <tr style=\"text-align: right;\">\n",
       "      <th></th>\n",
       "      <th>Company</th>\n",
       "      <th>Valuation</th>\n",
       "      <th>Date Joined</th>\n",
       "      <th>Industry</th>\n",
       "      <th>City</th>\n",
       "      <th>Country</th>\n",
       "      <th>Continent</th>\n",
       "      <th>Year Founded</th>\n",
       "      <th>Funding</th>\n",
       "      <th>Select Investors</th>\n",
       "    </tr>\n",
       "  </thead>\n",
       "  <tbody>\n",
       "    <tr>\n",
       "      <th>0</th>\n",
       "      <td>Bytedance</td>\n",
       "      <td>$180B</td>\n",
       "      <td>2017-04-07</td>\n",
       "      <td>Artificial intelligence</td>\n",
       "      <td>Beijing</td>\n",
       "      <td>China</td>\n",
       "      <td>Asia</td>\n",
       "      <td>2012</td>\n",
       "      <td>$8B</td>\n",
       "      <td>Sequoia Capital China, SIG Asia Investments, S...</td>\n",
       "    </tr>\n",
       "    <tr>\n",
       "      <th>1</th>\n",
       "      <td>SpaceX</td>\n",
       "      <td>$100B</td>\n",
       "      <td>2012-12-01</td>\n",
       "      <td>Other</td>\n",
       "      <td>Hawthorne</td>\n",
       "      <td>United States</td>\n",
       "      <td>North America</td>\n",
       "      <td>2002</td>\n",
       "      <td>$7B</td>\n",
       "      <td>Founders Fund, Draper Fisher Jurvetson, Rothen...</td>\n",
       "    </tr>\n",
       "    <tr>\n",
       "      <th>2</th>\n",
       "      <td>SHEIN</td>\n",
       "      <td>$100B</td>\n",
       "      <td>2018-07-03</td>\n",
       "      <td>E-commerce &amp; direct-to-consumer</td>\n",
       "      <td>Shenzhen</td>\n",
       "      <td>China</td>\n",
       "      <td>Asia</td>\n",
       "      <td>2008</td>\n",
       "      <td>$2B</td>\n",
       "      <td>Tiger Global Management, Sequoia Capital China...</td>\n",
       "    </tr>\n",
       "    <tr>\n",
       "      <th>3</th>\n",
       "      <td>Stripe</td>\n",
       "      <td>$95B</td>\n",
       "      <td>2014-01-23</td>\n",
       "      <td>Fintech</td>\n",
       "      <td>San Francisco</td>\n",
       "      <td>United States</td>\n",
       "      <td>North America</td>\n",
       "      <td>2010</td>\n",
       "      <td>$2B</td>\n",
       "      <td>Khosla Ventures, LowercaseCapital, capitalG</td>\n",
       "    </tr>\n",
       "    <tr>\n",
       "      <th>4</th>\n",
       "      <td>Klarna</td>\n",
       "      <td>$46B</td>\n",
       "      <td>2011-12-12</td>\n",
       "      <td>Fintech</td>\n",
       "      <td>Stockholm</td>\n",
       "      <td>Sweden</td>\n",
       "      <td>Europe</td>\n",
       "      <td>2005</td>\n",
       "      <td>$4B</td>\n",
       "      <td>Institutional Venture Partners, Sequoia Capita...</td>\n",
       "    </tr>\n",
       "    <tr>\n",
       "      <th>...</th>\n",
       "      <td>...</td>\n",
       "      <td>...</td>\n",
       "      <td>...</td>\n",
       "      <td>...</td>\n",
       "      <td>...</td>\n",
       "      <td>...</td>\n",
       "      <td>...</td>\n",
       "      <td>...</td>\n",
       "      <td>...</td>\n",
       "      <td>...</td>\n",
       "    </tr>\n",
       "    <tr>\n",
       "      <th>1069</th>\n",
       "      <td>Zhaogang</td>\n",
       "      <td>$1B</td>\n",
       "      <td>2017-06-29</td>\n",
       "      <td>E-commerce &amp; direct-to-consumer</td>\n",
       "      <td>Shanghai</td>\n",
       "      <td>China</td>\n",
       "      <td>Asia</td>\n",
       "      <td>2012</td>\n",
       "      <td>$379M</td>\n",
       "      <td>K2 Ventures, Matrix Partners China, IDG Capital</td>\n",
       "    </tr>\n",
       "    <tr>\n",
       "      <th>1070</th>\n",
       "      <td>Zhuan Zhuan</td>\n",
       "      <td>$1B</td>\n",
       "      <td>2017-04-18</td>\n",
       "      <td>E-commerce &amp; direct-to-consumer</td>\n",
       "      <td>Beijing</td>\n",
       "      <td>China</td>\n",
       "      <td>Asia</td>\n",
       "      <td>2015</td>\n",
       "      <td>$990M</td>\n",
       "      <td>58.com, Tencent Holdings</td>\n",
       "    </tr>\n",
       "    <tr>\n",
       "      <th>1071</th>\n",
       "      <td>Zihaiguo</td>\n",
       "      <td>$1B</td>\n",
       "      <td>2021-05-06</td>\n",
       "      <td>Consumer &amp; retail</td>\n",
       "      <td>Chongqing</td>\n",
       "      <td>China</td>\n",
       "      <td>Asia</td>\n",
       "      <td>2018</td>\n",
       "      <td>$80M</td>\n",
       "      <td>Xingwang Investment Management, China Capital ...</td>\n",
       "    </tr>\n",
       "    <tr>\n",
       "      <th>1072</th>\n",
       "      <td>Zopa</td>\n",
       "      <td>$1B</td>\n",
       "      <td>2021-10-19</td>\n",
       "      <td>Fintech</td>\n",
       "      <td>London</td>\n",
       "      <td>United Kingdom</td>\n",
       "      <td>Europe</td>\n",
       "      <td>2005</td>\n",
       "      <td>$792M</td>\n",
       "      <td>IAG Capital Partners, Augmentum Fintech, North...</td>\n",
       "    </tr>\n",
       "    <tr>\n",
       "      <th>1073</th>\n",
       "      <td>Zwift</td>\n",
       "      <td>$1B</td>\n",
       "      <td>2020-09-16</td>\n",
       "      <td>E-commerce &amp; direct-to-consumer</td>\n",
       "      <td>Long Beach</td>\n",
       "      <td>United States</td>\n",
       "      <td>North America</td>\n",
       "      <td>2014</td>\n",
       "      <td>$620M</td>\n",
       "      <td>Novator Partners, True, Causeway Media Partners</td>\n",
       "    </tr>\n",
       "  </tbody>\n",
       "</table>\n",
       "<p>1074 rows × 10 columns</p>\n",
       "</div>"
      ],
      "text/plain": [
       "          Company Valuation Date Joined                         Industry  \\\n",
       "0       Bytedance     $180B  2017-04-07          Artificial intelligence   \n",
       "1          SpaceX     $100B  2012-12-01                            Other   \n",
       "2           SHEIN     $100B  2018-07-03  E-commerce & direct-to-consumer   \n",
       "3          Stripe      $95B  2014-01-23                          Fintech   \n",
       "4          Klarna      $46B  2011-12-12                          Fintech   \n",
       "...           ...       ...         ...                              ...   \n",
       "1069     Zhaogang       $1B  2017-06-29  E-commerce & direct-to-consumer   \n",
       "1070  Zhuan Zhuan       $1B  2017-04-18  E-commerce & direct-to-consumer   \n",
       "1071     Zihaiguo       $1B  2021-05-06                Consumer & retail   \n",
       "1072         Zopa       $1B  2021-10-19                          Fintech   \n",
       "1073        Zwift       $1B  2020-09-16  E-commerce & direct-to-consumer   \n",
       "\n",
       "               City         Country      Continent  Year Founded Funding  \\\n",
       "0           Beijing           China           Asia          2012     $8B   \n",
       "1         Hawthorne   United States  North America          2002     $7B   \n",
       "2          Shenzhen           China           Asia          2008     $2B   \n",
       "3     San Francisco   United States  North America          2010     $2B   \n",
       "4         Stockholm          Sweden         Europe          2005     $4B   \n",
       "...             ...             ...            ...           ...     ...   \n",
       "1069       Shanghai           China           Asia          2012   $379M   \n",
       "1070        Beijing           China           Asia          2015   $990M   \n",
       "1071      Chongqing           China           Asia          2018    $80M   \n",
       "1072         London  United Kingdom         Europe          2005   $792M   \n",
       "1073     Long Beach   United States  North America          2014   $620M   \n",
       "\n",
       "                                       Select Investors  \n",
       "0     Sequoia Capital China, SIG Asia Investments, S...  \n",
       "1     Founders Fund, Draper Fisher Jurvetson, Rothen...  \n",
       "2     Tiger Global Management, Sequoia Capital China...  \n",
       "3           Khosla Ventures, LowercaseCapital, capitalG  \n",
       "4     Institutional Venture Partners, Sequoia Capita...  \n",
       "...                                                 ...  \n",
       "1069    K2 Ventures, Matrix Partners China, IDG Capital  \n",
       "1070                           58.com, Tencent Holdings  \n",
       "1071  Xingwang Investment Management, China Capital ...  \n",
       "1072  IAG Capital Partners, Augmentum Fintech, North...  \n",
       "1073    Novator Partners, True, Causeway Media Partners  \n",
       "\n",
       "[1074 rows x 10 columns]"
      ]
     },
     "execution_count": 2,
     "metadata": {},
     "output_type": "execute_result"
    }
   ],
   "source": [
    "df = pd.read_csv(r'C:\\Users\\Hello\\Desktop\\Quantum Analytics\\Python\\Assignment\\Unicorn_Companies.csv')\n",
    "df"
   ]
  },
  {
   "cell_type": "markdown",
   "id": "ce79f4d9",
   "metadata": {},
   "source": [
    "## Data Cleaning Processes\n",
    "- replacing NaN values in the City column with it's actual city location\n",
    "- replacing NaN values for 'Select Investors' with the actual investors\n",
    "- research and replace Unknown values for 'Funding' with the actual values\n",
    "- check for duplicates\n",
    "- check for wrong format entries\n",
    "- replace the wrong 'Year Founded' Date for the company Yidian Zixun"
   ]
  },
  {
   "cell_type": "code",
   "execution_count": 7,
   "id": "5470c144",
   "metadata": {},
   "outputs": [
    {
     "data": {
      "text/plain": [
       "Company              0\n",
       "Valuation            0\n",
       "Date Joined          0\n",
       "Industry             0\n",
       "City                16\n",
       "Country              0\n",
       "Continent            0\n",
       "Year Founded         0\n",
       "Funding              0\n",
       "Select Investors     1\n",
       "dtype: int64"
      ]
     },
     "execution_count": 7,
     "metadata": {},
     "output_type": "execute_result"
    }
   ],
   "source": [
    "df.isnull().sum()"
   ]
  },
  {
   "cell_type": "code",
   "execution_count": 8,
   "id": "d9ed3d6c",
   "metadata": {},
   "outputs": [
    {
     "data": {
      "text/html": [
       "<div>\n",
       "<style scoped>\n",
       "    .dataframe tbody tr th:only-of-type {\n",
       "        vertical-align: middle;\n",
       "    }\n",
       "\n",
       "    .dataframe tbody tr th {\n",
       "        vertical-align: top;\n",
       "    }\n",
       "\n",
       "    .dataframe thead th {\n",
       "        text-align: right;\n",
       "    }\n",
       "</style>\n",
       "<table border=\"1\" class=\"dataframe\">\n",
       "  <thead>\n",
       "    <tr style=\"text-align: right;\">\n",
       "      <th></th>\n",
       "      <th>Company</th>\n",
       "      <th>Valuation</th>\n",
       "      <th>Date Joined</th>\n",
       "      <th>Industry</th>\n",
       "      <th>City</th>\n",
       "      <th>Country</th>\n",
       "      <th>Continent</th>\n",
       "      <th>Year Founded</th>\n",
       "      <th>Funding</th>\n",
       "      <th>Select Investors</th>\n",
       "    </tr>\n",
       "  </thead>\n",
       "  <tbody>\n",
       "    <tr>\n",
       "      <th>12</th>\n",
       "      <td>FTX</td>\n",
       "      <td>$32B</td>\n",
       "      <td>2021-07-20</td>\n",
       "      <td>Fintech</td>\n",
       "      <td>NaN</td>\n",
       "      <td>Bahamas</td>\n",
       "      <td>North America</td>\n",
       "      <td>2018</td>\n",
       "      <td>$2B</td>\n",
       "      <td>Sequoia Capital, Thoma Bravo, Softbank</td>\n",
       "    </tr>\n",
       "    <tr>\n",
       "      <th>170</th>\n",
       "      <td>HyalRoute</td>\n",
       "      <td>$4B</td>\n",
       "      <td>2020-05-26</td>\n",
       "      <td>Mobile &amp; telecommunications</td>\n",
       "      <td>NaN</td>\n",
       "      <td>Singapore</td>\n",
       "      <td>Asia</td>\n",
       "      <td>2015</td>\n",
       "      <td>$263M</td>\n",
       "      <td>Kuang-Chi</td>\n",
       "    </tr>\n",
       "    <tr>\n",
       "      <th>242</th>\n",
       "      <td>Moglix</td>\n",
       "      <td>$3B</td>\n",
       "      <td>2021-05-17</td>\n",
       "      <td>E-commerce &amp; direct-to-consumer</td>\n",
       "      <td>NaN</td>\n",
       "      <td>Singapore</td>\n",
       "      <td>Asia</td>\n",
       "      <td>2015</td>\n",
       "      <td>$471M</td>\n",
       "      <td>Jungle Ventures, Accel, Venture Highway</td>\n",
       "    </tr>\n",
       "    <tr>\n",
       "      <th>251</th>\n",
       "      <td>Trax</td>\n",
       "      <td>$3B</td>\n",
       "      <td>2019-07-22</td>\n",
       "      <td>Artificial intelligence</td>\n",
       "      <td>NaN</td>\n",
       "      <td>Singapore</td>\n",
       "      <td>Asia</td>\n",
       "      <td>2010</td>\n",
       "      <td>$1B</td>\n",
       "      <td>Hopu Investment Management, Boyu Capital, DC T...</td>\n",
       "    </tr>\n",
       "    <tr>\n",
       "      <th>325</th>\n",
       "      <td>Amber Group</td>\n",
       "      <td>$3B</td>\n",
       "      <td>2021-06-21</td>\n",
       "      <td>Fintech</td>\n",
       "      <td>NaN</td>\n",
       "      <td>Hong Kong</td>\n",
       "      <td>Asia</td>\n",
       "      <td>2015</td>\n",
       "      <td>$328M</td>\n",
       "      <td>Tiger Global Management, Tiger Brokers, DCM Ve...</td>\n",
       "    </tr>\n",
       "    <tr>\n",
       "      <th>382</th>\n",
       "      <td>Ninja Van</td>\n",
       "      <td>$2B</td>\n",
       "      <td>2021-09-27</td>\n",
       "      <td>Supply chain, logistics, &amp; delivery</td>\n",
       "      <td>NaN</td>\n",
       "      <td>Singapore</td>\n",
       "      <td>Asia</td>\n",
       "      <td>2014</td>\n",
       "      <td>$975M</td>\n",
       "      <td>B Capital Group, Monk's Hill Ventures, Dynamic...</td>\n",
       "    </tr>\n",
       "    <tr>\n",
       "      <th>541</th>\n",
       "      <td>Advance Intelligence Group</td>\n",
       "      <td>$2B</td>\n",
       "      <td>2021-09-23</td>\n",
       "      <td>Artificial intelligence</td>\n",
       "      <td>NaN</td>\n",
       "      <td>Singapore</td>\n",
       "      <td>Asia</td>\n",
       "      <td>2016</td>\n",
       "      <td>$536M</td>\n",
       "      <td>Vision Plus Capital, GSR Ventures, ZhenFund</td>\n",
       "    </tr>\n",
       "    <tr>\n",
       "      <th>811</th>\n",
       "      <td>Carousell</td>\n",
       "      <td>$1B</td>\n",
       "      <td>2021-09-15</td>\n",
       "      <td>E-commerce &amp; direct-to-consumer</td>\n",
       "      <td>NaN</td>\n",
       "      <td>Singapore</td>\n",
       "      <td>Asia</td>\n",
       "      <td>2012</td>\n",
       "      <td>$288M</td>\n",
       "      <td>500 Global, Rakuten Ventures, Golden Gate Vent...</td>\n",
       "    </tr>\n",
       "    <tr>\n",
       "      <th>848</th>\n",
       "      <td>Matrixport</td>\n",
       "      <td>$1B</td>\n",
       "      <td>2021-06-01</td>\n",
       "      <td>Fintech</td>\n",
       "      <td>NaN</td>\n",
       "      <td>Singapore</td>\n",
       "      <td>Asia</td>\n",
       "      <td>2019</td>\n",
       "      <td>$100M</td>\n",
       "      <td>Dragonfly Captial, Qiming Venture Partners, DS...</td>\n",
       "    </tr>\n",
       "    <tr>\n",
       "      <th>880</th>\n",
       "      <td>bolttech</td>\n",
       "      <td>$1B</td>\n",
       "      <td>2021-07-01</td>\n",
       "      <td>Fintech</td>\n",
       "      <td>NaN</td>\n",
       "      <td>Singapore</td>\n",
       "      <td>Asia</td>\n",
       "      <td>2018</td>\n",
       "      <td>$210M</td>\n",
       "      <td>Mundi Ventures, Doqling Capital Partners, Acti...</td>\n",
       "    </tr>\n",
       "    <tr>\n",
       "      <th>889</th>\n",
       "      <td>Carro</td>\n",
       "      <td>$1B</td>\n",
       "      <td>2021-06-14</td>\n",
       "      <td>E-commerce &amp; direct-to-consumer</td>\n",
       "      <td>NaN</td>\n",
       "      <td>Singapore</td>\n",
       "      <td>Asia</td>\n",
       "      <td>2015</td>\n",
       "      <td>$595M</td>\n",
       "      <td>SingTel Innov8, Alpha JWC Ventures, Golden Gat...</td>\n",
       "    </tr>\n",
       "    <tr>\n",
       "      <th>893</th>\n",
       "      <td>Cider</td>\n",
       "      <td>$1B</td>\n",
       "      <td>2021-09-02</td>\n",
       "      <td>E-commerce &amp; direct-to-consumer</td>\n",
       "      <td>NaN</td>\n",
       "      <td>Hong Kong</td>\n",
       "      <td>Asia</td>\n",
       "      <td>2020</td>\n",
       "      <td>$140M</td>\n",
       "      <td>Andreessen Horowitz, DST Global, IDG Capital</td>\n",
       "    </tr>\n",
       "    <tr>\n",
       "      <th>980</th>\n",
       "      <td>NIUM</td>\n",
       "      <td>$1B</td>\n",
       "      <td>2021-07-13</td>\n",
       "      <td>Fintech</td>\n",
       "      <td>NaN</td>\n",
       "      <td>Singapore</td>\n",
       "      <td>Asia</td>\n",
       "      <td>2014</td>\n",
       "      <td>$285M</td>\n",
       "      <td>Vertex Ventures SE Asia, Global Founders Capit...</td>\n",
       "    </tr>\n",
       "    <tr>\n",
       "      <th>986</th>\n",
       "      <td>ONE</td>\n",
       "      <td>$1B</td>\n",
       "      <td>2021-12-08</td>\n",
       "      <td>Internet software &amp; services</td>\n",
       "      <td>NaN</td>\n",
       "      <td>Singapore</td>\n",
       "      <td>Asia</td>\n",
       "      <td>2011</td>\n",
       "      <td>$515M</td>\n",
       "      <td>Temasek, Guggenheim Investments, Qatar Investm...</td>\n",
       "    </tr>\n",
       "    <tr>\n",
       "      <th>994</th>\n",
       "      <td>PatSnap</td>\n",
       "      <td>$1B</td>\n",
       "      <td>2021-03-16</td>\n",
       "      <td>Internet software &amp; services</td>\n",
       "      <td>NaN</td>\n",
       "      <td>Singapore</td>\n",
       "      <td>Asia</td>\n",
       "      <td>2007</td>\n",
       "      <td>$352M</td>\n",
       "      <td>Sequoia Capital China, Shunwei Capital Partner...</td>\n",
       "    </tr>\n",
       "    <tr>\n",
       "      <th>1061</th>\n",
       "      <td>WeLab</td>\n",
       "      <td>$1B</td>\n",
       "      <td>2017-11-08</td>\n",
       "      <td>Fintech</td>\n",
       "      <td>NaN</td>\n",
       "      <td>Hong Kong</td>\n",
       "      <td>Asia</td>\n",
       "      <td>2013</td>\n",
       "      <td>$871M</td>\n",
       "      <td>Sequoia Capital China, ING, Alibaba Entreprene...</td>\n",
       "    </tr>\n",
       "  </tbody>\n",
       "</table>\n",
       "</div>"
      ],
      "text/plain": [
       "                         Company Valuation Date Joined  \\\n",
       "12                           FTX      $32B  2021-07-20   \n",
       "170                    HyalRoute       $4B  2020-05-26   \n",
       "242                       Moglix       $3B  2021-05-17   \n",
       "251                         Trax       $3B  2019-07-22   \n",
       "325                  Amber Group       $3B  2021-06-21   \n",
       "382                    Ninja Van       $2B  2021-09-27   \n",
       "541   Advance Intelligence Group       $2B  2021-09-23   \n",
       "811                    Carousell       $1B  2021-09-15   \n",
       "848                   Matrixport       $1B  2021-06-01   \n",
       "880                     bolttech       $1B  2021-07-01   \n",
       "889                        Carro       $1B  2021-06-14   \n",
       "893                        Cider       $1B  2021-09-02   \n",
       "980                         NIUM       $1B  2021-07-13   \n",
       "986                          ONE       $1B  2021-12-08   \n",
       "994                      PatSnap       $1B  2021-03-16   \n",
       "1061                       WeLab       $1B  2017-11-08   \n",
       "\n",
       "                                 Industry City    Country      Continent  \\\n",
       "12                                Fintech  NaN    Bahamas  North America   \n",
       "170           Mobile & telecommunications  NaN  Singapore           Asia   \n",
       "242       E-commerce & direct-to-consumer  NaN  Singapore           Asia   \n",
       "251               Artificial intelligence  NaN  Singapore           Asia   \n",
       "325                               Fintech  NaN  Hong Kong           Asia   \n",
       "382   Supply chain, logistics, & delivery  NaN  Singapore           Asia   \n",
       "541               Artificial intelligence  NaN  Singapore           Asia   \n",
       "811       E-commerce & direct-to-consumer  NaN  Singapore           Asia   \n",
       "848                               Fintech  NaN  Singapore           Asia   \n",
       "880                               Fintech  NaN  Singapore           Asia   \n",
       "889       E-commerce & direct-to-consumer  NaN  Singapore           Asia   \n",
       "893       E-commerce & direct-to-consumer  NaN  Hong Kong           Asia   \n",
       "980                               Fintech  NaN  Singapore           Asia   \n",
       "986          Internet software & services  NaN  Singapore           Asia   \n",
       "994          Internet software & services  NaN  Singapore           Asia   \n",
       "1061                              Fintech  NaN  Hong Kong           Asia   \n",
       "\n",
       "      Year Founded Funding                                   Select Investors  \n",
       "12            2018     $2B             Sequoia Capital, Thoma Bravo, Softbank  \n",
       "170           2015   $263M                                          Kuang-Chi  \n",
       "242           2015   $471M            Jungle Ventures, Accel, Venture Highway  \n",
       "251           2010     $1B  Hopu Investment Management, Boyu Capital, DC T...  \n",
       "325           2015   $328M  Tiger Global Management, Tiger Brokers, DCM Ve...  \n",
       "382           2014   $975M  B Capital Group, Monk's Hill Ventures, Dynamic...  \n",
       "541           2016   $536M        Vision Plus Capital, GSR Ventures, ZhenFund  \n",
       "811           2012   $288M  500 Global, Rakuten Ventures, Golden Gate Vent...  \n",
       "848           2019   $100M  Dragonfly Captial, Qiming Venture Partners, DS...  \n",
       "880           2018   $210M  Mundi Ventures, Doqling Capital Partners, Acti...  \n",
       "889           2015   $595M  SingTel Innov8, Alpha JWC Ventures, Golden Gat...  \n",
       "893           2020   $140M       Andreessen Horowitz, DST Global, IDG Capital  \n",
       "980           2014   $285M  Vertex Ventures SE Asia, Global Founders Capit...  \n",
       "986           2011   $515M  Temasek, Guggenheim Investments, Qatar Investm...  \n",
       "994           2007   $352M  Sequoia Capital China, Shunwei Capital Partner...  \n",
       "1061          2013   $871M  Sequoia Capital China, ING, Alibaba Entreprene...  "
      ]
     },
     "execution_count": 8,
     "metadata": {},
     "output_type": "execute_result"
    }
   ],
   "source": [
    "df[df.City.isnull()]"
   ]
  },
  {
   "cell_type": "code",
   "execution_count": 3,
   "id": "9a1857c6",
   "metadata": {},
   "outputs": [],
   "source": [
    "df.loc[df.Company == 'FTX', 'City'] = df.loc[df.Company == 'FTX', 'City'].replace(np.NaN, 'Nassau', regex=True)\n",
    "df.loc[df.Company == 'HyalRoute', 'City'] = df.loc[df.Company == 'HyalRoute', 'City'].replace(np.NaN, 'Singapore', regex=True)\n",
    "df.loc[df.Company == 'Moglix', 'City'] = df.loc[df.Company == 'Moglix', 'City'].replace(np.NaN, 'Singapore', regex=True)\n",
    "df.loc[df.Company == 'Trax', 'City'] = df.loc[df.Company == 'Trax', 'City'].replace(np.NaN, 'Singapore', regex=True)\n",
    "df.loc[df.Company == 'Amber Group', 'City'] = df.loc[df.Company == 'Amber Group', 'City'].replace(np.NaN, 'Hong Kong', regex=True)\n",
    "df.loc[df.Company == 'Ninja Van', 'City'] = df.loc[df.Company == 'Ninja Van', 'City'].replace(np.NaN, 'Singapore', regex=True)\n",
    "df.loc[df.Company == 'Advance Intelligence Group', 'City'] = df.loc[df.Company == 'Advance Intelligence Group', 'City'].replace(np.NaN, 'Singapore', regex=True)\n",
    "df.loc[df.Company == 'Carousell', 'City'] = df.loc[df.Company == 'Carousell', 'City'].replace(np.NaN, 'Singapore', regex=True)\n",
    "df.loc[df.Company == 'Matrixport', 'City'] = df.loc[df.Company == 'Matrixport', 'City'].replace(np.NaN, 'Singapore', regex=True)\n",
    "df.loc[df.Company == 'bolttech', 'City'] = df.loc[df.Company == 'bolttech', 'City'].replace(np.NaN, 'Singapore', regex=True)\n",
    "df.loc[df.Company == 'Carro', 'City'] = df.loc[df.Company == 'Carro', 'City'].replace(np.NaN, 'Singapore', regex=True)\n",
    "df.loc[df.Company == 'Cider', 'City'] = df.loc[df.Company == 'Cider', 'City'].replace(np.NaN, 'Hong Kong', regex=True)\n",
    "df.loc[df.Company == 'NIUM', 'City'] = df.loc[df.Company == 'NIUM', 'City'].replace(np.NaN, 'Singapore', regex=True)\n",
    "df.loc[df.Company == 'ONE', 'City'] = df.loc[df.Company == 'ONE', 'City'].replace(np.NaN, 'Singapore', regex=True)\n",
    "df.loc[df.Company == 'PatSnap', 'City'] = df.loc[df.Company == 'PatSnap', 'City'].replace(np.NaN, 'Singapore', regex=True)\n",
    "df.loc[df.Company == 'WeLab', 'City'] = df.loc[df.Company == 'WeLab', 'City'].replace(np.NaN, 'Hong Kong', regex=True)"
   ]
  },
  {
   "cell_type": "code",
   "execution_count": 75,
   "id": "da41cc2f",
   "metadata": {},
   "outputs": [
    {
     "data": {
      "text/html": [
       "<div>\n",
       "<style scoped>\n",
       "    .dataframe tbody tr th:only-of-type {\n",
       "        vertical-align: middle;\n",
       "    }\n",
       "\n",
       "    .dataframe tbody tr th {\n",
       "        vertical-align: top;\n",
       "    }\n",
       "\n",
       "    .dataframe thead th {\n",
       "        text-align: right;\n",
       "    }\n",
       "</style>\n",
       "<table border=\"1\" class=\"dataframe\">\n",
       "  <thead>\n",
       "    <tr style=\"text-align: right;\">\n",
       "      <th></th>\n",
       "      <th>Company</th>\n",
       "      <th>Valuation</th>\n",
       "      <th>Date Joined</th>\n",
       "      <th>Industry</th>\n",
       "      <th>City</th>\n",
       "      <th>Country</th>\n",
       "      <th>Continent</th>\n",
       "      <th>Year Founded</th>\n",
       "      <th>Funding</th>\n",
       "      <th>Select Investors</th>\n",
       "    </tr>\n",
       "  </thead>\n",
       "  <tbody>\n",
       "    <tr>\n",
       "      <th>629</th>\n",
       "      <td>LinkSure Network</td>\n",
       "      <td>$1B</td>\n",
       "      <td>2015-01-01</td>\n",
       "      <td>Mobile &amp; telecommunications</td>\n",
       "      <td>Shanghai</td>\n",
       "      <td>China</td>\n",
       "      <td>Asia</td>\n",
       "      <td>2013</td>\n",
       "      <td>$52M</td>\n",
       "      <td>NaN</td>\n",
       "    </tr>\n",
       "  </tbody>\n",
       "</table>\n",
       "</div>"
      ],
      "text/plain": [
       "              Company Valuation Date Joined                     Industry  \\\n",
       "629  LinkSure Network       $1B  2015-01-01  Mobile & telecommunications   \n",
       "\n",
       "         City Country Continent  Year Founded Funding Select Investors  \n",
       "629  Shanghai   China      Asia          2013    $52M              NaN  "
      ]
     },
     "execution_count": 75,
     "metadata": {},
     "output_type": "execute_result"
    }
   ],
   "source": [
    "df[df['Select Investors'].isnull()]"
   ]
  },
  {
   "cell_type": "code",
   "execution_count": 175,
   "id": "ef12d69a",
   "metadata": {},
   "outputs": [],
   "source": [
    "# replace the NaN values in Select Investors for LinkSure Network\n",
    "df.loc[df.Company == 'LinkSure Network', 'Select Investors'] = df.loc[df.Company == 'LinkSure Network', 'Select Investors'].replace(np.NaN, 'Bank of China, Eight Roads, O.A.G.M, Primavera Capital Group, Cheetah Mobile', regex=True)"
   ]
  },
  {
   "cell_type": "code",
   "execution_count": 8,
   "id": "02756c3b",
   "metadata": {},
   "outputs": [
    {
     "data": {
      "text/plain": [
       "Company             0\n",
       "Valuation           0\n",
       "Date Joined         0\n",
       "Industry            0\n",
       "City                0\n",
       "Country             0\n",
       "Continent           0\n",
       "Year Founded        0\n",
       "Funding             0\n",
       "Select Investors    0\n",
       "dtype: int64"
      ]
     },
     "execution_count": 8,
     "metadata": {},
     "output_type": "execute_result"
    }
   ],
   "source": [
    "df.isnull().sum()"
   ]
  },
  {
   "cell_type": "code",
   "execution_count": 5,
   "id": "17b14444",
   "metadata": {},
   "outputs": [],
   "source": [
    "# replacing unknowns found in Funding with with researched value or $50.1M when undisclosed\n",
    "df.loc[df.Company == 'Uplight', 'Funding'] = df.loc[df.Company == 'Uplight', 'Funding'].replace('Unknown', '$227.8M', regex=True)\n",
    "df.loc[df.Company == 'SSENSE', 'Funding'] = df.loc[df.Company == 'SSENSE', 'Funding'].replace('Unknown', '$4B', regex=True)\n",
    "df.loc[df.Company == 'SITECH DEV', 'Funding'] = df.loc[df.Company == 'SITECH DEV', 'Funding'].replace('Unknown', '$0M', regex=True)\n",
    "df.loc[df.Company == 'Xiaobing', 'Funding'] = df.loc[df.Company == 'Xiaobing', 'Funding'].replace('Unknown', '$50.1M', regex=True)\n",
    "df.loc[df.Company == 'Veepee', 'Funding'] = df.loc[df.Company == 'Veepee', 'Funding'].replace('Unknown', '$50.1M', regex=True)\n",
    "df.loc[df.Company == 'DistroKid', 'Funding'] = df.loc[df.Company == 'DistroKid', 'Funding'].replace('Unknown', '$50.1M', regex=True)\n",
    "df.loc[df.Company == 'Assembly', 'Funding'] = df.loc[df.Company == 'Assembly', 'Funding'].replace('Unknown', '$50.1M', regex=True)\n",
    "df.loc[df.Company == 'Carson Group', 'Funding'] = df.loc[df.Company == 'Carson Group', 'Funding'].replace('Unknown', '$50.1M', regex=True)\n",
    "df.loc[df.Company == 'Iodine Software', 'Funding'] = df.loc[df.Company == 'Iodine Software', 'Funding'].replace('Unknown', '$50.1M', regex=True)\n",
    "df.loc[df.Company == 'Kendra Scott', 'Funding'] = df.loc[df.Company == 'Kendra Scott', 'Funding'].replace('Unknown', '$50.1M', regex=True)\n",
    "df.loc[df.Company == 'Poizon', 'Funding'] = df.loc[df.Company == 'Poizon', 'Funding'].replace('Unknown', '$50M', regex=True)\n",
    "df.loc[df.Company == 'ISN', 'Funding'] = df.loc[df.Company == 'ISN', 'Funding'].replace('Unknown', '$50.1M', regex=True)"
   ]
  },
  {
   "cell_type": "code",
   "execution_count": 6,
   "id": "aa8d4721",
   "metadata": {},
   "outputs": [
    {
     "data": {
      "text/plain": [
       "count       0\n",
       "unique      0\n",
       "top       NaN\n",
       "freq      NaN\n",
       "Name: Funding, dtype: object"
      ]
     },
     "execution_count": 6,
     "metadata": {},
     "output_type": "execute_result"
    }
   ],
   "source": [
    "df[(df['Funding'] == 'Unknown')].Funding.describe()"
   ]
  },
  {
   "cell_type": "code",
   "execution_count": 171,
   "id": "34b2077a",
   "metadata": {},
   "outputs": [
    {
     "data": {
      "text/html": [
       "<div>\n",
       "<style scoped>\n",
       "    .dataframe tbody tr th:only-of-type {\n",
       "        vertical-align: middle;\n",
       "    }\n",
       "\n",
       "    .dataframe tbody tr th {\n",
       "        vertical-align: top;\n",
       "    }\n",
       "\n",
       "    .dataframe thead th {\n",
       "        text-align: right;\n",
       "    }\n",
       "</style>\n",
       "<table border=\"1\" class=\"dataframe\">\n",
       "  <thead>\n",
       "    <tr style=\"text-align: right;\">\n",
       "      <th></th>\n",
       "      <th></th>\n",
       "      <th>NumericValuation</th>\n",
       "      <th>NumericFunding</th>\n",
       "      <th>ROI(%)</th>\n",
       "      <th>Duration(Years)</th>\n",
       "    </tr>\n",
       "    <tr>\n",
       "      <th>Year Founded</th>\n",
       "      <th>Date Joined</th>\n",
       "      <th></th>\n",
       "      <th></th>\n",
       "      <th></th>\n",
       "      <th></th>\n",
       "    </tr>\n",
       "  </thead>\n",
       "  <tbody>\n",
       "    <tr>\n",
       "      <th>2021-01-01</th>\n",
       "      <th>2017-10-17</th>\n",
       "      <td>1.000000e+09</td>\n",
       "      <td>151000000.0</td>\n",
       "      <td>84.9</td>\n",
       "      <td>-4.0</td>\n",
       "    </tr>\n",
       "  </tbody>\n",
       "</table>\n",
       "</div>"
      ],
      "text/plain": [
       "                          NumericValuation  NumericFunding  ROI(%)  \\\n",
       "Year Founded Date Joined                                             \n",
       "2021-01-01   2017-10-17       1.000000e+09     151000000.0    84.9   \n",
       "\n",
       "                          Duration(Years)  \n",
       "Year Founded Date Joined                   \n",
       "2021-01-01   2017-10-17              -4.0  "
      ]
     },
     "execution_count": 171,
     "metadata": {},
     "output_type": "execute_result"
    }
   ],
   "source": [
    "# results gotten from analysing the duration of companies before attaining unicorn status gave a value of (-4) for the company Yidian Zixun. So check for inconsistencies in the data\n",
    "df[(df['Company'] == 'Yidian Zixun')].groupby(['Year Founded', 'Date Joined']).agg('mean')"
   ]
  },
  {
   "cell_type": "markdown",
   "id": "ac1c2fdc",
   "metadata": {},
   "source": [
    "Wrong Date for \"Year Founded\": Founded in 2021 but became a Unicorn in 2017"
   ]
  },
  {
   "cell_type": "code",
   "execution_count": 178,
   "id": "310562a8",
   "metadata": {},
   "outputs": [],
   "source": [
    "# correct the date for company Yidian Zixun\n",
    "df.loc[df.Company == 'Yidian Zixun', 'Year Founded'] = df.loc[df.Company == 'Yidian Zixun', 'Year Founded'].astype(str).replace('2021-01-01', '2012-01-01', regex=True)"
   ]
  },
  {
   "cell_type": "code",
   "execution_count": 189,
   "id": "8b38560d",
   "metadata": {},
   "outputs": [
    {
     "data": {
      "text/plain": [
       "0"
      ]
     },
     "execution_count": 189,
     "metadata": {},
     "output_type": "execute_result"
    }
   ],
   "source": [
    "# check for duplicates\n",
    "df.duplicated().sum()"
   ]
  },
  {
   "cell_type": "code",
   "execution_count": 119,
   "id": "13f10807",
   "metadata": {},
   "outputs": [],
   "source": [
    "#display(df.to_string())"
   ]
  },
  {
   "cell_type": "markdown",
   "id": "63af1130",
   "metadata": {},
   "source": [
    "# Analysis\n",
    "- First we create numeric versions of columns in order to perform desired analysis"
   ]
  },
  {
   "cell_type": "code",
   "execution_count": 179,
   "id": "8bd44547",
   "metadata": {},
   "outputs": [],
   "source": [
    "# creating numeric version of the column 'Valuation' for analysis\n",
    "def extract_numeric_value(value):\n",
    "    if value[-1] == 'B':\n",
    "        numeric_value = int(''.join(filter(str.isdigit, value[:-1]))) * 1000000000\n",
    "    elif value[-1] == 'M':\n",
    "        numeric_value = int(''.join(filter(str.isdigit, value[:-1]))) * 1000000\n",
    "    else:\n",
    "        numeric_value = 0  # or any default value if needed\n",
    "    return numeric_value\n",
    "\n",
    "# Storing data in 'df'\n",
    "df['NumericValuation'] = df['Valuation'].apply(extract_numeric_value)"
   ]
  },
  {
   "cell_type": "code",
   "execution_count": 180,
   "id": "8fd0505a",
   "metadata": {},
   "outputs": [],
   "source": [
    "# creating numeric version of the column 'Funding' for analysis\n",
    "def extract_numeric_value(value):\n",
    "    if value[-1] == 'B':\n",
    "        numeric_value = int(''.join(filter(str.isdigit, value[:-1]))) * 1000000000\n",
    "    elif value[-1] == 'M':\n",
    "        numeric_value = int(''.join(filter(str.isdigit, value[:-1]))) * 1000000\n",
    "    else:\n",
    "        numeric_value = 0 \n",
    "    return numeric_value\n",
    "\n",
    "# Storing data in 'df'\n",
    "df['NumericFunding'] = df['Funding'].apply(extract_numeric_value)"
   ]
  },
  {
   "cell_type": "code",
   "execution_count": 181,
   "id": "68ce2b9c",
   "metadata": {},
   "outputs": [
    {
     "data": {
      "text/html": [
       "<div>\n",
       "<style scoped>\n",
       "    .dataframe tbody tr th:only-of-type {\n",
       "        vertical-align: middle;\n",
       "    }\n",
       "\n",
       "    .dataframe tbody tr th {\n",
       "        vertical-align: top;\n",
       "    }\n",
       "\n",
       "    .dataframe thead th {\n",
       "        text-align: right;\n",
       "    }\n",
       "</style>\n",
       "<table border=\"1\" class=\"dataframe\">\n",
       "  <thead>\n",
       "    <tr style=\"text-align: right;\">\n",
       "      <th></th>\n",
       "      <th>Company</th>\n",
       "      <th>Valuation</th>\n",
       "      <th>Date Joined</th>\n",
       "      <th>Industry</th>\n",
       "      <th>City</th>\n",
       "      <th>Country</th>\n",
       "      <th>Continent</th>\n",
       "      <th>Year Founded</th>\n",
       "      <th>Funding</th>\n",
       "      <th>Select Investors</th>\n",
       "      <th>NumericValuation</th>\n",
       "      <th>NumericFunding</th>\n",
       "      <th>ROI(%)</th>\n",
       "      <th>Duration(Years)</th>\n",
       "    </tr>\n",
       "  </thead>\n",
       "  <tbody>\n",
       "    <tr>\n",
       "      <th>0</th>\n",
       "      <td>Bytedance</td>\n",
       "      <td>$180B</td>\n",
       "      <td>2017-04-07</td>\n",
       "      <td>Artificial intelligence</td>\n",
       "      <td>Beijing</td>\n",
       "      <td>China</td>\n",
       "      <td>Asia</td>\n",
       "      <td>2012-01-01</td>\n",
       "      <td>$8B</td>\n",
       "      <td>Sequoia Capital China, SIG Asia Investments, S...</td>\n",
       "      <td>180000000000</td>\n",
       "      <td>8000000000</td>\n",
       "      <td>95.56</td>\n",
       "      <td>5</td>\n",
       "    </tr>\n",
       "    <tr>\n",
       "      <th>1</th>\n",
       "      <td>SpaceX</td>\n",
       "      <td>$100B</td>\n",
       "      <td>2012-12-01</td>\n",
       "      <td>Other</td>\n",
       "      <td>Hawthorne</td>\n",
       "      <td>United States</td>\n",
       "      <td>North America</td>\n",
       "      <td>2002-01-01</td>\n",
       "      <td>$7B</td>\n",
       "      <td>Founders Fund, Draper Fisher Jurvetson, Rothen...</td>\n",
       "      <td>100000000000</td>\n",
       "      <td>7000000000</td>\n",
       "      <td>93.00</td>\n",
       "      <td>10</td>\n",
       "    </tr>\n",
       "    <tr>\n",
       "      <th>2</th>\n",
       "      <td>SHEIN</td>\n",
       "      <td>$100B</td>\n",
       "      <td>2018-07-03</td>\n",
       "      <td>E-commerce &amp; direct-to-consumer</td>\n",
       "      <td>Shenzhen</td>\n",
       "      <td>China</td>\n",
       "      <td>Asia</td>\n",
       "      <td>2008-01-01</td>\n",
       "      <td>$2B</td>\n",
       "      <td>Tiger Global Management, Sequoia Capital China...</td>\n",
       "      <td>100000000000</td>\n",
       "      <td>2000000000</td>\n",
       "      <td>98.00</td>\n",
       "      <td>10</td>\n",
       "    </tr>\n",
       "    <tr>\n",
       "      <th>3</th>\n",
       "      <td>Stripe</td>\n",
       "      <td>$95B</td>\n",
       "      <td>2014-01-23</td>\n",
       "      <td>Fintech</td>\n",
       "      <td>San Francisco</td>\n",
       "      <td>United States</td>\n",
       "      <td>North America</td>\n",
       "      <td>2010-01-01</td>\n",
       "      <td>$2B</td>\n",
       "      <td>Khosla Ventures, LowercaseCapital, capitalG</td>\n",
       "      <td>95000000000</td>\n",
       "      <td>2000000000</td>\n",
       "      <td>97.89</td>\n",
       "      <td>4</td>\n",
       "    </tr>\n",
       "    <tr>\n",
       "      <th>4</th>\n",
       "      <td>Klarna</td>\n",
       "      <td>$46B</td>\n",
       "      <td>2011-12-12</td>\n",
       "      <td>Fintech</td>\n",
       "      <td>Stockholm</td>\n",
       "      <td>Sweden</td>\n",
       "      <td>Europe</td>\n",
       "      <td>2005-01-01</td>\n",
       "      <td>$4B</td>\n",
       "      <td>Institutional Venture Partners, Sequoia Capita...</td>\n",
       "      <td>46000000000</td>\n",
       "      <td>4000000000</td>\n",
       "      <td>91.30</td>\n",
       "      <td>6</td>\n",
       "    </tr>\n",
       "  </tbody>\n",
       "</table>\n",
       "</div>"
      ],
      "text/plain": [
       "     Company Valuation Date Joined                         Industry  \\\n",
       "0  Bytedance     $180B  2017-04-07          Artificial intelligence   \n",
       "1     SpaceX     $100B  2012-12-01                            Other   \n",
       "2      SHEIN     $100B  2018-07-03  E-commerce & direct-to-consumer   \n",
       "3     Stripe      $95B  2014-01-23                          Fintech   \n",
       "4     Klarna      $46B  2011-12-12                          Fintech   \n",
       "\n",
       "            City        Country      Continent Year Founded Funding  \\\n",
       "0        Beijing          China           Asia   2012-01-01     $8B   \n",
       "1      Hawthorne  United States  North America   2002-01-01     $7B   \n",
       "2       Shenzhen          China           Asia   2008-01-01     $2B   \n",
       "3  San Francisco  United States  North America   2010-01-01     $2B   \n",
       "4      Stockholm         Sweden         Europe   2005-01-01     $4B   \n",
       "\n",
       "                                    Select Investors  NumericValuation  \\\n",
       "0  Sequoia Capital China, SIG Asia Investments, S...      180000000000   \n",
       "1  Founders Fund, Draper Fisher Jurvetson, Rothen...      100000000000   \n",
       "2  Tiger Global Management, Sequoia Capital China...      100000000000   \n",
       "3        Khosla Ventures, LowercaseCapital, capitalG       95000000000   \n",
       "4  Institutional Venture Partners, Sequoia Capita...       46000000000   \n",
       "\n",
       "   NumericFunding  ROI(%)  Duration(Years)  \n",
       "0      8000000000   95.56                5  \n",
       "1      7000000000   93.00               10  \n",
       "2      2000000000   98.00               10  \n",
       "3      2000000000   97.89                4  \n",
       "4      4000000000   91.30                6  "
      ]
     },
     "execution_count": 181,
     "metadata": {},
     "output_type": "execute_result"
    }
   ],
   "source": [
    "df.head().sort_values(by = 'NumericValuation', ascending = False)"
   ]
  },
  {
   "cell_type": "markdown",
   "id": "0eb299ae",
   "metadata": {},
   "source": [
    "### 1. Top 10 Companies with the highest Return on Investment(ROI)"
   ]
  },
  {
   "cell_type": "code",
   "execution_count": 182,
   "id": "5f4c37b3",
   "metadata": {},
   "outputs": [],
   "source": [
    "# now we calculate the Return on Investment(ROI) of each company in order to see who benefitted the most\n",
    "df['ROI(%)'] = round(((df.NumericValuation - df.NumericFunding)/df.NumericValuation) * 100, 2)"
   ]
  },
  {
   "cell_type": "code",
   "execution_count": 183,
   "id": "cc51e3cb",
   "metadata": {},
   "outputs": [
    {
     "data": {
      "text/html": [
       "<div>\n",
       "<style scoped>\n",
       "    .dataframe tbody tr th:only-of-type {\n",
       "        vertical-align: middle;\n",
       "    }\n",
       "\n",
       "    .dataframe tbody tr th {\n",
       "        vertical-align: top;\n",
       "    }\n",
       "\n",
       "    .dataframe thead th {\n",
       "        text-align: right;\n",
       "    }\n",
       "</style>\n",
       "<table border=\"1\" class=\"dataframe\">\n",
       "  <thead>\n",
       "    <tr style=\"text-align: right;\">\n",
       "      <th></th>\n",
       "      <th>Company</th>\n",
       "      <th>Valuation</th>\n",
       "      <th>Date Joined</th>\n",
       "      <th>Industry</th>\n",
       "      <th>City</th>\n",
       "      <th>Country</th>\n",
       "      <th>Continent</th>\n",
       "      <th>Year Founded</th>\n",
       "      <th>Funding</th>\n",
       "      <th>Select Investors</th>\n",
       "      <th>NumericValuation</th>\n",
       "      <th>NumericFunding</th>\n",
       "      <th>ROI(%)</th>\n",
       "      <th>Duration(Years)</th>\n",
       "    </tr>\n",
       "  </thead>\n",
       "  <tbody>\n",
       "    <tr>\n",
       "      <th>189</th>\n",
       "      <td>Otto Bock HealthCare</td>\n",
       "      <td>$4B</td>\n",
       "      <td>2017-06-24</td>\n",
       "      <td>Health</td>\n",
       "      <td>Duderstadt</td>\n",
       "      <td>Germany</td>\n",
       "      <td>Europe</td>\n",
       "      <td>1919-01-01</td>\n",
       "      <td>$0M</td>\n",
       "      <td>EQT Partners</td>\n",
       "      <td>4000000000</td>\n",
       "      <td>0</td>\n",
       "      <td>100.00</td>\n",
       "      <td>98</td>\n",
       "    </tr>\n",
       "    <tr>\n",
       "      <th>639</th>\n",
       "      <td>SITECH DEV</td>\n",
       "      <td>$1B</td>\n",
       "      <td>2019-05-16</td>\n",
       "      <td>Other</td>\n",
       "      <td>Guiyang</td>\n",
       "      <td>China</td>\n",
       "      <td>Asia</td>\n",
       "      <td>2017-01-01</td>\n",
       "      <td>$0M</td>\n",
       "      <td>China Prosperity Capital</td>\n",
       "      <td>1000000000</td>\n",
       "      <td>0</td>\n",
       "      <td>100.00</td>\n",
       "      <td>2</td>\n",
       "    </tr>\n",
       "    <tr>\n",
       "      <th>239</th>\n",
       "      <td>Zapier</td>\n",
       "      <td>$4B</td>\n",
       "      <td>2021-01-14</td>\n",
       "      <td>Internet software &amp; services</td>\n",
       "      <td>Sunnyvale</td>\n",
       "      <td>United States</td>\n",
       "      <td>North America</td>\n",
       "      <td>2011-01-01</td>\n",
       "      <td>$1M</td>\n",
       "      <td>Sequoia Capital, Bessemer Venture Partners, Th...</td>\n",
       "      <td>4000000000</td>\n",
       "      <td>1000000</td>\n",
       "      <td>99.98</td>\n",
       "      <td>10</td>\n",
       "    </tr>\n",
       "    <tr>\n",
       "      <th>61</th>\n",
       "      <td>Dunamu</td>\n",
       "      <td>$9B</td>\n",
       "      <td>2021-07-22</td>\n",
       "      <td>Fintech</td>\n",
       "      <td>Seoul</td>\n",
       "      <td>South Korea</td>\n",
       "      <td>Asia</td>\n",
       "      <td>2012-01-01</td>\n",
       "      <td>$71M</td>\n",
       "      <td>Qualcomm Ventures, Woori Investment, Hanwha In...</td>\n",
       "      <td>9000000000</td>\n",
       "      <td>71000000</td>\n",
       "      <td>99.21</td>\n",
       "      <td>9</td>\n",
       "    </tr>\n",
       "    <tr>\n",
       "      <th>792</th>\n",
       "      <td>Workhuman</td>\n",
       "      <td>$1B</td>\n",
       "      <td>2020-06-23</td>\n",
       "      <td>Internet software &amp; services</td>\n",
       "      <td>Dublin</td>\n",
       "      <td>Ireland</td>\n",
       "      <td>Europe</td>\n",
       "      <td>1999-01-01</td>\n",
       "      <td>$9M</td>\n",
       "      <td>ICG</td>\n",
       "      <td>1000000000</td>\n",
       "      <td>9000000</td>\n",
       "      <td>99.10</td>\n",
       "      <td>21</td>\n",
       "    </tr>\n",
       "    <tr>\n",
       "      <th>361</th>\n",
       "      <td>CFGI</td>\n",
       "      <td>$2B</td>\n",
       "      <td>2021-09-15</td>\n",
       "      <td>Fintech</td>\n",
       "      <td>Boston</td>\n",
       "      <td>United States</td>\n",
       "      <td>North America</td>\n",
       "      <td>2000-01-01</td>\n",
       "      <td>$19M</td>\n",
       "      <td>The Carlyle Group, CVC Capital Partners</td>\n",
       "      <td>2000000000</td>\n",
       "      <td>19000000</td>\n",
       "      <td>99.05</td>\n",
       "      <td>21</td>\n",
       "    </tr>\n",
       "    <tr>\n",
       "      <th>743</th>\n",
       "      <td>Manner</td>\n",
       "      <td>$1B</td>\n",
       "      <td>2020-12-24</td>\n",
       "      <td>Other</td>\n",
       "      <td>Shanghai</td>\n",
       "      <td>China</td>\n",
       "      <td>Asia</td>\n",
       "      <td>2015-01-01</td>\n",
       "      <td>$10M</td>\n",
       "      <td>Coatue Management, H Capital, Capital Today</td>\n",
       "      <td>1000000000</td>\n",
       "      <td>10000000</td>\n",
       "      <td>99.00</td>\n",
       "      <td>5</td>\n",
       "    </tr>\n",
       "    <tr>\n",
       "      <th>72</th>\n",
       "      <td>DJI Innovations</td>\n",
       "      <td>$8B</td>\n",
       "      <td>2015-01-23</td>\n",
       "      <td>Hardware</td>\n",
       "      <td>Shenzhen</td>\n",
       "      <td>China</td>\n",
       "      <td>Asia</td>\n",
       "      <td>2006-01-01</td>\n",
       "      <td>$105M</td>\n",
       "      <td>Accel Partners, Sequoia Capital</td>\n",
       "      <td>8000000000</td>\n",
       "      <td>105000000</td>\n",
       "      <td>98.69</td>\n",
       "      <td>9</td>\n",
       "    </tr>\n",
       "    <tr>\n",
       "      <th>760</th>\n",
       "      <td>GalaxySpace</td>\n",
       "      <td>$1B</td>\n",
       "      <td>2020-11-17</td>\n",
       "      <td>Mobile &amp; telecommunications</td>\n",
       "      <td>Beijing</td>\n",
       "      <td>China</td>\n",
       "      <td>Asia</td>\n",
       "      <td>2016-01-01</td>\n",
       "      <td>$14M</td>\n",
       "      <td>Shunwei Capital Partners, 5Y Capital, Legend C...</td>\n",
       "      <td>1000000000</td>\n",
       "      <td>14000000</td>\n",
       "      <td>98.60</td>\n",
       "      <td>4</td>\n",
       "    </tr>\n",
       "    <tr>\n",
       "      <th>5</th>\n",
       "      <td>Canva</td>\n",
       "      <td>$40B</td>\n",
       "      <td>2018-01-08</td>\n",
       "      <td>Internet software &amp; services</td>\n",
       "      <td>Surry Hills</td>\n",
       "      <td>Australia</td>\n",
       "      <td>Oceania</td>\n",
       "      <td>2012-01-01</td>\n",
       "      <td>$572M</td>\n",
       "      <td>Sequoia Capital China, Blackbird Ventures, Mat...</td>\n",
       "      <td>40000000000</td>\n",
       "      <td>572000000</td>\n",
       "      <td>98.57</td>\n",
       "      <td>6</td>\n",
       "    </tr>\n",
       "  </tbody>\n",
       "</table>\n",
       "</div>"
      ],
      "text/plain": [
       "                  Company Valuation Date Joined                      Industry  \\\n",
       "189  Otto Bock HealthCare       $4B  2017-06-24                        Health   \n",
       "639            SITECH DEV       $1B  2019-05-16                         Other   \n",
       "239                Zapier       $4B  2021-01-14  Internet software & services   \n",
       "61                 Dunamu       $9B  2021-07-22                       Fintech   \n",
       "792             Workhuman       $1B  2020-06-23  Internet software & services   \n",
       "361                  CFGI       $2B  2021-09-15                       Fintech   \n",
       "743                Manner       $1B  2020-12-24                         Other   \n",
       "72        DJI Innovations       $8B  2015-01-23                      Hardware   \n",
       "760           GalaxySpace       $1B  2020-11-17   Mobile & telecommunications   \n",
       "5                   Canva      $40B  2018-01-08  Internet software & services   \n",
       "\n",
       "            City        Country      Continent Year Founded Funding  \\\n",
       "189   Duderstadt        Germany         Europe   1919-01-01     $0M   \n",
       "639      Guiyang          China           Asia   2017-01-01     $0M   \n",
       "239    Sunnyvale  United States  North America   2011-01-01     $1M   \n",
       "61         Seoul    South Korea           Asia   2012-01-01    $71M   \n",
       "792       Dublin        Ireland         Europe   1999-01-01     $9M   \n",
       "361       Boston  United States  North America   2000-01-01    $19M   \n",
       "743     Shanghai          China           Asia   2015-01-01    $10M   \n",
       "72      Shenzhen          China           Asia   2006-01-01   $105M   \n",
       "760      Beijing          China           Asia   2016-01-01    $14M   \n",
       "5    Surry Hills      Australia        Oceania   2012-01-01   $572M   \n",
       "\n",
       "                                      Select Investors  NumericValuation  \\\n",
       "189                                       EQT Partners        4000000000   \n",
       "639                           China Prosperity Capital        1000000000   \n",
       "239  Sequoia Capital, Bessemer Venture Partners, Th...        4000000000   \n",
       "61   Qualcomm Ventures, Woori Investment, Hanwha In...        9000000000   \n",
       "792                                                ICG        1000000000   \n",
       "361            The Carlyle Group, CVC Capital Partners        2000000000   \n",
       "743        Coatue Management, H Capital, Capital Today        1000000000   \n",
       "72                     Accel Partners, Sequoia Capital        8000000000   \n",
       "760  Shunwei Capital Partners, 5Y Capital, Legend C...        1000000000   \n",
       "5    Sequoia Capital China, Blackbird Ventures, Mat...       40000000000   \n",
       "\n",
       "     NumericFunding  ROI(%)  Duration(Years)  \n",
       "189               0  100.00               98  \n",
       "639               0  100.00                2  \n",
       "239         1000000   99.98               10  \n",
       "61         71000000   99.21                9  \n",
       "792         9000000   99.10               21  \n",
       "361        19000000   99.05               21  \n",
       "743        10000000   99.00                5  \n",
       "72        105000000   98.69                9  \n",
       "760        14000000   98.60                4  \n",
       "5         572000000   98.57                6  "
      ]
     },
     "execution_count": 183,
     "metadata": {},
     "output_type": "execute_result"
    }
   ],
   "source": [
    "df.nlargest(10, columns='ROI(%)')"
   ]
  },
  {
   "cell_type": "code",
   "execution_count": 84,
   "id": "330498ec",
   "metadata": {},
   "outputs": [],
   "source": [
    "# df_filtered = df[(df['Funding'] != 'Unknown')]\n",
    "# top_10_roi = df_filtered.nlargest(5, columns='ROI(%)')"
   ]
  },
  {
   "cell_type": "code",
   "execution_count": 110,
   "id": "61ed2c62",
   "metadata": {},
   "outputs": [
    {
     "data": {
      "text/plain": [
       "Company               ROI(%)\n",
       "CFGI                  99.05     1\n",
       "Canva                 98.57     1\n",
       "DJI Innovations       98.69     1\n",
       "Dunamu                99.21     1\n",
       "GalaxySpace           98.60     1\n",
       "Manner                99.00     1\n",
       "Otto Bock HealthCare  100.00    1\n",
       "SITECH DEV            100.00    1\n",
       "Workhuman             99.10     1\n",
       "Zapier                99.98     1\n",
       "dtype: int64"
      ]
     },
     "execution_count": 110,
     "metadata": {},
     "output_type": "execute_result"
    }
   ],
   "source": [
    "#ROI = df.nlargest(10, columns='ROI(%)')\n",
    "#ROI[['Company', 'ROI(%)']].value_counts()"
   ]
  },
  {
   "cell_type": "code",
   "execution_count": 159,
   "id": "01122298",
   "metadata": {},
   "outputs": [
    {
     "data": {
      "text/plain": [
       "Company\n",
       "Otto Bock HealthCare    100.00\n",
       "SITECH DEV              100.00\n",
       "Zapier                   99.98\n",
       "Dunamu                   99.21\n",
       "Workhuman                99.10\n",
       "CFGI                     99.05\n",
       "Manner                   99.00\n",
       "DJI Innovations          98.69\n",
       "GalaxySpace              98.60\n",
       "Canva                    98.57\n",
       "Name: ROI(%), dtype: float64"
      ]
     },
     "execution_count": 159,
     "metadata": {},
     "output_type": "execute_result"
    }
   ],
   "source": [
    "ROI.groupby(['Company'])['ROI(%)'].agg('mean').sort_values(ascending = False)"
   ]
  },
  {
   "cell_type": "code",
   "execution_count": 160,
   "id": "a84bf8bf",
   "metadata": {},
   "outputs": [],
   "source": [
    "ROI_Plot = ROI[['Company', 'ROI(%)']].value_counts()"
   ]
  },
  {
   "cell_type": "code",
   "execution_count": 161,
   "id": "a19f346b",
   "metadata": {},
   "outputs": [
    {
     "data": {
      "text/plain": [
       "<AxesSubplot:title={'center':\"Top 10 Companies' ROI(%)\"}, ylabel='.'>"
      ]
     },
     "execution_count": 161,
     "metadata": {},
     "output_type": "execute_result"
    },
    {
     "data": {
      "image/png": "[encoded data removed]",
      "text/plain": [
       "<Figure size 640x480 with 1 Axes>"
      ]
     },
     "metadata": {},
     "output_type": "display_data"
    }
   ],
   "source": [
    "mycolors = [\"#880808\", \"#AA4A44\", \"#EE4B2B\", \"#A52A2A\", \"#D22B2B\", \"#C41E3A\", \"#D70040\", \"#D2042D\", \"#C04000\", \"#FF3131\"]\n",
    "\n",
    "explode = [0, 0, 0, 0, 0, 0, 0, 0.2, 0, 0]\n",
    "\n",
    "ROI_Plot.plot(kind = 'pie', colors = mycolors, explode = explode, shadow = True, startangle = 90, title = \"Top 10 Companies' ROI(%)\", label = '.')"
   ]
  },
  {
   "cell_type": "markdown",
   "id": "fe9deb1f",
   "metadata": {},
   "source": [
    "### Observation:\n",
    "- Otto Bock Healthcare and SITECH DEV came out on top in terms of Return on Investment recorded (100% : at $0 funding). That being said, there are uncertainties around the latter as its funding was previously recorded as unknown. But with further research, it was speculated that it is yet to receive any funding till date (Ref: Tracxn Technologies Private Limited, May 31, 2021) "
   ]
  },
  {
   "cell_type": "markdown",
   "id": "e47504cd",
   "metadata": {},
   "source": [
    "### ---------------------------------------------------------------------------------------------------------------------------------------------------"
   ]
  },
  {
   "cell_type": "markdown",
   "id": "ddc4934f",
   "metadata": {},
   "source": [
    "## 2. How Long It Takes For a Company To Become A Unicorn"
   ]
  },
  {
   "cell_type": "code",
   "execution_count": 136,
   "id": "29454ade",
   "metadata": {},
   "outputs": [
    {
     "data": {
      "text/plain": [
       "dtype('int64')"
      ]
     },
     "execution_count": 136,
     "metadata": {},
     "output_type": "execute_result"
    }
   ],
   "source": [
    "# Checking the data types\n",
    "df['Year Founded'].dtype"
   ]
  },
  {
   "cell_type": "code",
   "execution_count": 140,
   "id": "c63995dd",
   "metadata": {},
   "outputs": [
    {
     "data": {
      "text/plain": [
       "dtype('O')"
      ]
     },
     "execution_count": 140,
     "metadata": {},
     "output_type": "execute_result"
    }
   ],
   "source": [
    "df['Date Joined'].dtype"
   ]
  },
  {
   "cell_type": "code",
   "execution_count": 184,
   "id": "3ad47f01",
   "metadata": {},
   "outputs": [],
   "source": [
    "import pandas as pd\n",
    "\n",
    "# convert the datatype to datetime\n",
    "df['Date Joined'] = pd.to_datetime(df['Date Joined'], format='%Y-%m-%d')\n",
    "df['Year Founded'] = pd.to_datetime(df['Year Founded'], format='%Y', errors='coerce')"
   ]
  },
  {
   "cell_type": "code",
   "execution_count": 185,
   "id": "a5eadf52",
   "metadata": {},
   "outputs": [],
   "source": [
    "df['Duration(Years)'] = df['Date Joined'].dt.year - df['Year Founded'].dt.year"
   ]
  },
  {
   "cell_type": "code",
   "execution_count": 186,
   "id": "e1cb2044",
   "metadata": {},
   "outputs": [
    {
     "data": {
      "text/html": [
       "<div>\n",
       "<style scoped>\n",
       "    .dataframe tbody tr th:only-of-type {\n",
       "        vertical-align: middle;\n",
       "    }\n",
       "\n",
       "    .dataframe tbody tr th {\n",
       "        vertical-align: top;\n",
       "    }\n",
       "\n",
       "    .dataframe thead th {\n",
       "        text-align: right;\n",
       "    }\n",
       "</style>\n",
       "<table border=\"1\" class=\"dataframe\">\n",
       "  <thead>\n",
       "    <tr style=\"text-align: right;\">\n",
       "      <th></th>\n",
       "      <th>Company</th>\n",
       "      <th>Duration(Years)</th>\n",
       "    </tr>\n",
       "  </thead>\n",
       "  <tbody>\n",
       "    <tr>\n",
       "      <th>189</th>\n",
       "      <td>Otto Bock HealthCare</td>\n",
       "      <td>98</td>\n",
       "    </tr>\n",
       "    <tr>\n",
       "      <th>373</th>\n",
       "      <td>Promasidor Holdings</td>\n",
       "      <td>37</td>\n",
       "    </tr>\n",
       "    <tr>\n",
       "      <th>699</th>\n",
       "      <td>Five Star Business Finance</td>\n",
       "      <td>37</td>\n",
       "    </tr>\n",
       "    <tr>\n",
       "      <th>1043</th>\n",
       "      <td>Thirty Madison</td>\n",
       "      <td>28</td>\n",
       "    </tr>\n",
       "    <tr>\n",
       "      <th>840</th>\n",
       "      <td>Radius Payment Solutions</td>\n",
       "      <td>27</td>\n",
       "    </tr>\n",
       "    <tr>\n",
       "      <th>11</th>\n",
       "      <td>Epic Games</td>\n",
       "      <td>27</td>\n",
       "    </tr>\n",
       "    <tr>\n",
       "      <th>129</th>\n",
       "      <td>Howden Group Holdings</td>\n",
       "      <td>26</td>\n",
       "    </tr>\n",
       "    <tr>\n",
       "      <th>79</th>\n",
       "      <td>Caris Life Sciences</td>\n",
       "      <td>25</td>\n",
       "    </tr>\n",
       "    <tr>\n",
       "      <th>377</th>\n",
       "      <td>BGL Group</td>\n",
       "      <td>25</td>\n",
       "    </tr>\n",
       "    <tr>\n",
       "      <th>360</th>\n",
       "      <td>Carzone</td>\n",
       "      <td>24</td>\n",
       "    </tr>\n",
       "  </tbody>\n",
       "</table>\n",
       "</div>"
      ],
      "text/plain": [
       "                         Company  Duration(Years)\n",
       "189         Otto Bock HealthCare               98\n",
       "373          Promasidor Holdings               37\n",
       "699   Five Star Business Finance               37\n",
       "1043              Thirty Madison               28\n",
       "840     Radius Payment Solutions               27\n",
       "11                    Epic Games               27\n",
       "129        Howden Group Holdings               26\n",
       "79           Caris Life Sciences               25\n",
       "377                    BGL Group               25\n",
       "360                      Carzone               24"
      ]
     },
     "execution_count": 186,
     "metadata": {},
     "output_type": "execute_result"
    }
   ],
   "source": [
    "df[['Company', 'Duration(Years)']].sort_values(by = 'Duration(Years)', ascending = False).head(10)"
   ]
  },
  {
   "cell_type": "code",
   "execution_count": 166,
   "id": "22398905",
   "metadata": {},
   "outputs": [],
   "source": [
    "ax = df[['Company', 'Duration(Years)']].sort_values(by = 'Duration(Years)', ascending = False).head(10)"
   ]
  },
  {
   "cell_type": "code",
   "execution_count": 167,
   "id": "39a2f171",
   "metadata": {},
   "outputs": [
    {
     "data": {
      "image/png": "[encoded data removed]",
      "text/plain": [
       "<Figure size 800x400 with 1 Axes>"
      ]
     },
     "metadata": {},
     "output_type": "display_data"
    }
   ],
   "source": [
    "ax.plot.bar('Company', figsize = (8, 4), title = 'Duration To Attain Unicorn Status', legend = False, ylabel = 'Years', color = 'r')\n",
    "\n",
    "# annotations\n",
    "#ax.bar_label(ax.container[0], label_type = 'edge')\n",
    "\n",
    "plt.show()"
   ]
  },
  {
   "cell_type": "markdown",
   "id": "2a13c649",
   "metadata": {},
   "source": [
    "### Observation:\n",
    "- Some companies took quite a long time to attain the level of a Unicorn Company (USD 1 billion valuation), for example; Otto Bock HealthCare took 98 years to achieve this feat but Avant didn't take up to a year. There are reasons for the timing in being refered to as a Unicorn Company:\n",
    "- 1. Tech is the fastest route to success and achieving the tag of a unicorn for most companies in this new age. Tech companies nowadays attain billion dollar valuation within a year after their inauguration - Avant for example.\n",
    "- 2. Pertaining to the term \"Unicorn\" literally; it was not used in refering to billion dollar companies, not until 2013, when it was first coined by a venture capitalist Aileen Lee. The first Billion dollar company was the United States Steel Corporation in 1901 at a valuation of USD 1.4 billion, but it wasn't refered as a Unicorn at that time."
   ]
  },
  {
   "cell_type": "markdown",
   "id": "e15beb0b",
   "metadata": {},
   "source": [
    "## 3. Fastest Companies To Attain Billion Dollar Valuation(Unicorn Companies)"
   ]
  },
  {
   "cell_type": "code",
   "execution_count": 188,
   "id": "8cd7ed08",
   "metadata": {},
   "outputs": [
    {
     "data": {
      "text/html": [
       "<div>\n",
       "<style scoped>\n",
       "    .dataframe tbody tr th:only-of-type {\n",
       "        vertical-align: middle;\n",
       "    }\n",
       "\n",
       "    .dataframe tbody tr th {\n",
       "        vertical-align: top;\n",
       "    }\n",
       "\n",
       "    .dataframe thead th {\n",
       "        text-align: right;\n",
       "    }\n",
       "</style>\n",
       "<table border=\"1\" class=\"dataframe\">\n",
       "  <thead>\n",
       "    <tr style=\"text-align: right;\">\n",
       "      <th></th>\n",
       "      <th>Company</th>\n",
       "      <th>Duration(Years)</th>\n",
       "    </tr>\n",
       "  </thead>\n",
       "  <tbody>\n",
       "    <tr>\n",
       "      <th>775</th>\n",
       "      <td>Jokr</td>\n",
       "      <td>0</td>\n",
       "    </tr>\n",
       "    <tr>\n",
       "      <th>546</th>\n",
       "      <td>Avant</td>\n",
       "      <td>0</td>\n",
       "    </tr>\n",
       "    <tr>\n",
       "      <th>554</th>\n",
       "      <td>ClickHouse</td>\n",
       "      <td>0</td>\n",
       "    </tr>\n",
       "    <tr>\n",
       "      <th>314</th>\n",
       "      <td>Flink Food</td>\n",
       "      <td>0</td>\n",
       "    </tr>\n",
       "    <tr>\n",
       "      <th>822</th>\n",
       "      <td>GlobalBees</td>\n",
       "      <td>0</td>\n",
       "    </tr>\n",
       "    <tr>\n",
       "      <th>1001</th>\n",
       "      <td>Playco</td>\n",
       "      <td>0</td>\n",
       "    </tr>\n",
       "    <tr>\n",
       "      <th>161</th>\n",
       "      <td>Ola Electric Mobility</td>\n",
       "      <td>0</td>\n",
       "    </tr>\n",
       "    <tr>\n",
       "      <th>967</th>\n",
       "      <td>Mensa Brands</td>\n",
       "      <td>0</td>\n",
       "    </tr>\n",
       "    <tr>\n",
       "      <th>396</th>\n",
       "      <td>candy.com</td>\n",
       "      <td>0</td>\n",
       "    </tr>\n",
       "    <tr>\n",
       "      <th>102</th>\n",
       "      <td>Black Unicorn Factory</td>\n",
       "      <td>1</td>\n",
       "    </tr>\n",
       "  </tbody>\n",
       "</table>\n",
       "</div>"
      ],
      "text/plain": [
       "                    Company  Duration(Years)\n",
       "775                    Jokr                0\n",
       "546                   Avant                0\n",
       "554              ClickHouse                0\n",
       "314              Flink Food                0\n",
       "822              GlobalBees                0\n",
       "1001                 Playco                0\n",
       "161   Ola Electric Mobility                0\n",
       "967            Mensa Brands                0\n",
       "396               candy.com                0\n",
       "102   Black Unicorn Factory                1"
      ]
     },
     "execution_count": 188,
     "metadata": {},
     "output_type": "execute_result"
    }
   ],
   "source": [
    "df[['Company', 'Duration(Years)']].sort_values(by = 'Duration(Years)', ascending = True).head(10)"
   ]
  },
  {
   "cell_type": "markdown",
   "id": "c4f4a383",
   "metadata": {},
   "source": [
    "# Observation:\n",
    "- It took Jokr and eight(8) other companies less than a year to achieve the Unicorn milestone, making them the fastest companies to achieve this feat in this list.\n",
    "- Avant for example is an Artifical Intelligence company that was launched in November 2022, that then became a Unicorn before December that year. \n",
    "- All of these companies have achieved the feat of a Unicorn as a result of being a Tech company or heavily incorporated Technology in their services. "
   ]
  },
  {
   "cell_type": "markdown",
   "id": "0913f43d",
   "metadata": {},
   "source": [
    "## 4. Countries And Cities With The Most Unicorns"
   ]
  },
  {
   "cell_type": "code",
   "execution_count": 22,
   "id": "f7965ac9",
   "metadata": {},
   "outputs": [
    {
     "data": {
      "text/plain": [
       "United States           562\n",
       "China                   173\n",
       "India                    65\n",
       "United Kingdom           43\n",
       "Germany                  26\n",
       "France                   24\n",
       "Israel                   20\n",
       "Canada                   19\n",
       "Brazil                   16\n",
       "Singapore                12\n",
       "South Korea              12\n",
       "Australia                 8\n",
       "Hong Kong                 6\n",
       "Mexico                    6\n",
       "Indonesia                 6\n",
       "Netherlands               6\n",
       "Sweden                    6\n",
       "Switzerland               5\n",
       "Japan                     5\n",
       "Ireland                   5\n",
       "Finland                   4\n",
       "Norway                    4\n",
       "United Arab Emirates      3\n",
       "Turkey                    3\n",
       "Spain                     3\n",
       "Belgium                   3\n",
       "Chile                     2\n",
       "South Africa              2\n",
       "Philippines               2\n",
       "Thailand                  2\n",
       "Estonia                   2\n",
       "Vietnam                   2\n",
       "Austria                   2\n",
       "Colombia                  2\n",
       "Denmark                   2\n",
       "Argentina                 1\n",
       "Bermuda                   1\n",
       "Lithuania                 1\n",
       "Malaysia                  1\n",
       "Senegal                   1\n",
       "Bahamas                   1\n",
       "Luxembourg                1\n",
       "Nigeria                   1\n",
       "Czech Republic            1\n",
       "Croatia                   1\n",
       "Italy                     1\n",
       "Name: Country, dtype: int64"
      ]
     },
     "execution_count": 22,
     "metadata": {},
     "output_type": "execute_result"
    }
   ],
   "source": [
    "# count of Unicorns per country\n",
    "df.Country.value_counts()"
   ]
  },
  {
   "cell_type": "markdown",
   "id": "484db253",
   "metadata": {},
   "source": [
    "### Observation:\n",
    "- The United states with a wide margin clinches the top spot having 562 Unicorn companies, whilst China trail right behind with 173 Unicorns.\n",
    "- Nigeria and 10 other countries share the least number of Unicorn Companies it possesses(one(1) Unicorn)."
   ]
  },
  {
   "cell_type": "markdown",
   "id": "cdb8484a",
   "metadata": {},
   "source": [
    "### Top 5 Tech Hub Cities"
   ]
  },
  {
   "cell_type": "code",
   "execution_count": 23,
   "id": "67a56db9",
   "metadata": {},
   "outputs": [
    {
     "data": {
      "text/plain": [
       "San Francisco    152\n",
       "New York         103\n",
       "Beijing           63\n",
       "Shanghai          44\n",
       "London            34\n",
       "Name: City, dtype: int64"
      ]
     },
     "execution_count": 23,
     "metadata": {},
     "output_type": "execute_result"
    }
   ],
   "source": [
    "df.City.value_counts().head()"
   ]
  },
  {
   "cell_type": "code",
   "execution_count": 24,
   "id": "40408e79",
   "metadata": {},
   "outputs": [],
   "source": [
    "Tech_Hubs = df.City.value_counts().head()"
   ]
  },
  {
   "cell_type": "code",
   "execution_count": 25,
   "id": "0e3f2ce1",
   "metadata": {},
   "outputs": [
    {
     "data": {
      "image/png": "[encoded data removed]",
      "text/plain": [
       "<Figure size 640x480 with 1 Axes>"
      ]
     },
     "metadata": {},
     "output_type": "display_data"
    }
   ],
   "source": [
    "label = ['San Francisco (152)', 'New York (103)', 'Beijing (63)', 'Shanghai (44)', 'London (34)']\n",
    "mycolors =[\"#880808\", \"#AA4A44\", \"#EE4B2B\", \"#A52A2A\", \"#D22B2B\"]\n",
    "\n",
    "plt.pie(Tech_Hubs, labels = label, colors = mycolors)\n",
    "\n",
    "# draw a circle\n",
    "centre_circle = plt.Circle((0,0), 0.70, fc = 'white')\n",
    "fig = plt.gcf()\n",
    "\n",
    "# Adding the circle\n",
    "fig.gca().add_artist(centre_circle)\n",
    "\n",
    "plt.show()"
   ]
  },
  {
   "cell_type": "markdown",
   "id": "b8c0b90d",
   "metadata": {},
   "source": [
    "### Observation:\n",
    "- San Francisco and New York, United States of America are the top 2 biggest Tech spaces in the world - 152 and 103 respectively. Tech Companies in both cities combined(255) is more than the rest of the top 5 cummulatively."
   ]
  },
  {
   "cell_type": "markdown",
   "id": "6593281f",
   "metadata": {},
   "source": [
    "## 5. Investor(s) Who Funded The Most Unicorns"
   ]
  },
  {
   "cell_type": "code",
   "execution_count": 106,
   "id": "81f3e7ec",
   "metadata": {},
   "outputs": [
    {
     "data": {
      "text/plain": [
       "Sequoia Capital                                                                                3\n",
       "Speedinvest, Valar Ventures, Uniqa Ventures                                                    2\n",
       "General Atlantic                                                                               2\n",
       "Sequoia Capital China, Qiming Venture Partners, Tencent Holdings                               2\n",
       "Global Founders Capital, Shea Ventures, Greycroft                                              2\n",
       "Greylock Partners, Google Ventures, BlackRock                                                  2\n",
       "SoftBank Group                                                                                 2\n",
       "Insight Partners, Sequoia Capital, Index Ventures                                              2\n",
       "Undisclosed                                                                                    2\n",
       "Qualcomm Ventures, Accel, Canaan Partners                                                      2\n",
       "Shunwei Capital Partners, China Media Group, Guangzhou Huiyin Aofeng Equity Investment Fund    2\n",
       "Pelion Venture Partners, Foundation Capital, Thoma Bravo                                       2\n",
       "Tiger Global Management, Sequoia Capital India, Ribbit Capital                                 2\n",
       "Two Sigma Ventures, Flint Capital, Commerce Ventures                                           2\n",
       "Bessemer Venture Partners, Eniac Ventures, Canapi Ventures                                     1\n",
       "Phoenix New Media, Tianjin Haihe Industry Fund                                                 1\n",
       "Lightspeed Venture Partners, Access Industries, Eldridge                                       1\n",
       "Bessemer Venture Partners, Vintage Investment Partners, Blumberg Capital                       1\n",
       "Propel Venture Partners, Monashees+, BBVA                                                      1\n",
       "BNP Paribas, Goldman Sachs, Google                                                             1\n",
       "Name: Select Investors, dtype: int64"
      ]
     },
     "execution_count": 106,
     "metadata": {},
     "output_type": "execute_result"
    }
   ],
   "source": [
    "df['Select Investors'].value_counts().head(20)"
   ]
  },
  {
   "cell_type": "markdown",
   "id": "ad110230",
   "metadata": {},
   "source": [
    "### Observation:\n",
    "- Sequoia Capital, alongside 13 other investors are recorded to have made financial commitments and partnership with with more than one(1) Unicorn companies. Sequoia Capital with the highest number of investments, numbered three(3)."
   ]
  },
  {
   "cell_type": "markdown",
   "id": "9cd401fe",
   "metadata": {},
   "source": [
    "## 6. Companies the Top Investor Invested In(Continued)"
   ]
  },
  {
   "cell_type": "code",
   "execution_count": 104,
   "id": "70e30774",
   "metadata": {},
   "outputs": [
    {
     "data": {
      "text/plain": [
       "Select Investors  Company\n",
       "Sequoia Capital   MUSINSA     287000000\n",
       "                  Retool       96000000\n",
       "                  SSENSE     4000000000\n",
       "Name: NumericFunding, dtype: int64"
      ]
     },
     "execution_count": 104,
     "metadata": {},
     "output_type": "execute_result"
    }
   ],
   "source": [
    "df[(df['Select Investors'] == 'Sequoia Capital')].groupby(['Select Investors', 'Company']).NumericFunding.sum()"
   ]
  },
  {
   "cell_type": "markdown",
   "id": "3a06493c",
   "metadata": {},
   "source": [
    "### Observation: \n",
    "- The companies Sequoia Capital invested in and the amount involved in the investment are namely: \n",
    "    1. MUSINSA - USD287 Million\n",
    "    2. Retool  - USD96 Million\n",
    "    3. SSENSE  - USD4 Billion\n",
    "- It is important to note that according to the data, they may not be the sole investors of the said monies, but are seen to be the most frequent of investors amongst the list of Unicorn Companies."
   ]
  },
  {
   "cell_type": "markdown",
   "id": "23f59dd2",
   "metadata": {},
   "source": [
    "## 7. Investors With The Most Money Invested "
   ]
  },
  {
   "cell_type": "code",
   "execution_count": 64,
   "id": "7b29d660",
   "metadata": {},
   "outputs": [
    {
     "data": {
      "text/plain": [
       "Select Investors\n",
       "Tiger Global Management                                                    14000000000\n",
       "Sequoia Capital China, SIG Asia Investments, Sina Weibo, Softbank Group     8000000000\n",
       "Founders Fund, Draper Fisher Jurvetson, Rothenberg Ventures                 7000000000\n",
       "Tencent Holdings, KKR, Smash Ventures                                       7000000000\n",
       "Accel India, SAIF Partners, Norwest Venture Partners                        5000000000\n",
       "Name: NumericFunding, dtype: int64"
      ]
     },
     "execution_count": 64,
     "metadata": {},
     "output_type": "execute_result"
    }
   ],
   "source": [
    "df.groupby(['Select Investors'])['NumericFunding'].sum().nlargest(n = 5)"
   ]
  },
  {
   "cell_type": "code",
   "execution_count": 65,
   "id": "fe9a6bb5",
   "metadata": {},
   "outputs": [],
   "source": [
    "big_cash = df.groupby(['Select Investors'])['NumericFunding'].sum().nlargest(n = 5)"
   ]
  },
  {
   "cell_type": "code",
   "execution_count": 215,
   "id": "c6262b4f",
   "metadata": {},
   "outputs": [
    {
     "data": {
      "image/png": "[encoded data removed]",
      "text/plain": [
       "<Figure size 1200x600 with 1 Axes>"
      ]
     },
     "metadata": {},
     "output_type": "display_data"
    }
   ],
   "source": [
    "plt.figure(figsize=(12, 6))\n",
    "plt.plot(big_cash, marker='o', ms=10, color='r', mfc='b')\n",
    "\n",
    "plt.xticks(rotation=40, ha='right')\n",
    "plt.tight_layout()\n",
    "\n",
    "# plt.title(\"Top Spenders\")\n",
    "\n",
    "plt.show()"
   ]
  },
  {
   "cell_type": "markdown",
   "id": "d7af8180",
   "metadata": {},
   "source": [
    "### Observation:\n",
    "- Tiger Global Management are the Top Spenders in the list of investments to the Unicorn Companies, at a staggering sum of USD14 Billion. They are just directly atop the most frequent investors in the list; Sequoia Capital China. "
   ]
  },
  {
   "cell_type": "markdown",
   "id": "a81956b2",
   "metadata": {},
   "source": [
    "## 8. The Companies That Received the Biggest Funding and Their Return on Investment"
   ]
  },
  {
   "cell_type": "code",
   "execution_count": 207,
   "id": "87dbdaf9",
   "metadata": {},
   "outputs": [
    {
     "data": {
      "text/html": [
       "<div>\n",
       "<style scoped>\n",
       "    .dataframe tbody tr th:only-of-type {\n",
       "        vertical-align: middle;\n",
       "    }\n",
       "\n",
       "    .dataframe tbody tr th {\n",
       "        vertical-align: top;\n",
       "    }\n",
       "\n",
       "    .dataframe thead th {\n",
       "        text-align: right;\n",
       "    }\n",
       "</style>\n",
       "<table border=\"1\" class=\"dataframe\">\n",
       "  <thead>\n",
       "    <tr style=\"text-align: right;\">\n",
       "      <th></th>\n",
       "      <th>NumericFunding</th>\n",
       "      <th>ROI(%)</th>\n",
       "    </tr>\n",
       "    <tr>\n",
       "      <th>Company</th>\n",
       "      <th></th>\n",
       "      <th></th>\n",
       "    </tr>\n",
       "  </thead>\n",
       "  <tbody>\n",
       "    <tr>\n",
       "      <th>JUUL Labs</th>\n",
       "      <td>14000000000</td>\n",
       "      <td>63</td>\n",
       "    </tr>\n",
       "    <tr>\n",
       "      <th>Bytedance</th>\n",
       "      <td>8000000000</td>\n",
       "      <td>95</td>\n",
       "    </tr>\n",
       "    <tr>\n",
       "      <th>Epic Games</th>\n",
       "      <td>7000000000</td>\n",
       "      <td>78</td>\n",
       "    </tr>\n",
       "    <tr>\n",
       "      <th>SpaceX</th>\n",
       "      <td>7000000000</td>\n",
       "      <td>93</td>\n",
       "    </tr>\n",
       "    <tr>\n",
       "      <th>Global Switch</th>\n",
       "      <td>5000000000</td>\n",
       "      <td>54</td>\n",
       "    </tr>\n",
       "  </tbody>\n",
       "</table>\n",
       "</div>"
      ],
      "text/plain": [
       "               NumericFunding  ROI(%)\n",
       "Company                              \n",
       "JUUL Labs         14000000000      63\n",
       "Bytedance          8000000000      95\n",
       "Epic Games         7000000000      78\n",
       "SpaceX             7000000000      93\n",
       "Global Switch      5000000000      54"
      ]
     },
     "execution_count": 207,
     "metadata": {},
     "output_type": "execute_result"
    }
   ],
   "source": [
    "df.groupby('Company')[['NumericFunding', 'ROI(%)']].agg('mean').nlargest(n=5, columns= 'NumericFunding').astype('int64')"
   ]
  },
  {
   "cell_type": "code",
   "execution_count": 208,
   "id": "605c1511",
   "metadata": {},
   "outputs": [],
   "source": [
    "Fund = df.groupby('Company')[['NumericFunding', 'ROI(%)']].agg('mean').nlargest(n=5, columns= 'NumericFunding').astype('int64')"
   ]
  },
  {
   "cell_type": "code",
   "execution_count": 225,
   "id": "3e8ab0e9",
   "metadata": {},
   "outputs": [
    {
     "data": {
      "image/png": "[encoded data removed]",
      "text/plain": [
       "<Figure size 800x400 with 1 Axes>"
      ]
     },
     "metadata": {},
     "output_type": "display_data"
    }
   ],
   "source": [
    "import matplotlib.pyplot as plt\n",
    "\n",
    "plt.figure(figsize=(8, 4))\n",
    "plt.bar(x=Fund.index, height=Fund['NumericFunding'], color='r')\n",
    "\n",
    "plt.xticks(rotation=40, ha='right')\n",
    "plt.tight_layout()\n",
    "\n",
    "plt.show()"
   ]
  },
  {
   "cell_type": "markdown",
   "id": "a612d630",
   "metadata": {},
   "source": [
    "### Observation:\n",
    "- JUUL Labs had the most funding at USD14 Billion, but only pulled off a 64% return on investment.\n",
    "- Bytedance - makers of the popular Social Media Platform; 'Tik Tok' - on the other hand had about USD8 Billion in funding and managed to produce a whooping 95% return on investment. Making it the Company with the highest ROI on this list of most funded Companies."
   ]
  },
  {
   "cell_type": "markdown",
   "id": "21f68961",
   "metadata": {},
   "source": [
    "# Recommendations:\n",
    "- Augment operational efficiency: This especially pertains to JUUL Labs; they have to evaluate the company's operational processes and identify areas where efficiency can be improved upon. This can involve optimizing resource allocation and reducing unnecessary expenses. By improving the operational efficiency, the company can maximize the utilization of its resources and then potentially increase their profit.\n",
    "- Assess investments: Review the company's investment decisions and analyze the factors contributing to the lower ROI. Evaluate whether the investments were made in viable and strategic initiatives. If necessary, adjust the investment strategy to focus on areas that have the potential to deliver higher returns."
   ]
  },
  {
   "cell_type": "code",
   "execution_count": null,
   "id": "cb31195d",
   "metadata": {},
   "outputs": [],
   "source": []
  }
 ],
 "metadata": {
  "kernelspec": {
   "display_name": "Python 3 (ipykernel)",
   "language": "python",
   "name": "python3"
  },
  "language_info": {
   "codemirror_mode": {
    "name": "ipython",
    "version": 3
   },
   "file_extension": ".py",
   "mimetype": "text/x-python",
   "name": "python",
   "nbconvert_exporter": "python",
   "pygments_lexer": "ipython3",
   "version": "3.9.13"
  }
 },
 "nbformat": 4,
 "nbformat_minor": 5
}
